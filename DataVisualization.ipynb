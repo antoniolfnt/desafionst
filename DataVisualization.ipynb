{
 "cells": [
  {
   "cell_type": "code",
   "execution_count": 1,
   "metadata": {},
   "outputs": [],
   "source": [
    "import cufflinks as cf\n",
    "from plotly.offline import plot, iplot\n",
    "import pandas as pd\n",
    "import numpy as np"
   ]
  },
  {
   "cell_type": "code",
   "execution_count": 2,
   "metadata": {},
   "outputs": [
    {
     "data": {
      "text/html": [
       "        <script type=\"text/javascript\">\n",
       "        window.PlotlyConfig = {MathJaxConfig: 'local'};\n",
       "        if (window.MathJax && window.MathJax.Hub && window.MathJax.Hub.Config) {window.MathJax.Hub.Config({SVG: {font: \"STIX-Web\"}});}\n",
       "        if (typeof require !== 'undefined') {\n",
       "        require.undef(\"plotly\");\n",
       "        requirejs.config({\n",
       "            paths: {\n",
       "                'plotly': ['https://cdn.plot.ly/plotly-2.27.0.min']\n",
       "            }\n",
       "        });\n",
       "        require(['plotly'], function(Plotly) {\n",
       "            window._Plotly = Plotly;\n",
       "        });\n",
       "        }\n",
       "        </script>\n",
       "        "
      ]
     },
     "metadata": {},
     "output_type": "display_data"
    }
   ],
   "source": [
    "cf.go_offline()"
   ]
  },
  {
   "cell_type": "markdown",
   "metadata": {},
   "source": [
    "<p>VISUALIZAÇÃO E GERAÇÃO DE INSIGHTS</p>"
   ]
  },
  {
   "cell_type": "markdown",
   "metadata": {},
   "source": [
    "FUNCIONÁRIOS"
   ]
  },
  {
   "cell_type": "code",
   "execution_count": 3,
   "metadata": {},
   "outputs": [],
   "source": [
    "# Importando o arquivo\n",
    "df_employers = pd.read_parquet('gold/employers.parquet')"
   ]
  },
  {
   "cell_type": "markdown",
   "metadata": {},
   "source": [
    "## Perguntas aos dados"
   ]
  },
  {
   "cell_type": "markdown",
   "metadata": {},
   "source": [
    "- Dados de Contratação e Demissão:\n",
    "\t- Taxa de rotatividade.\n",
    "\t- Tempo médio de permanência.\n",
    "- Relacionamento com Cargos:\n",
    "\t- Distribuição de funcionários por cargo.\n",
    "\t- Relação entre cargo e nível."
   ]
  },
  {
   "cell_type": "code",
   "execution_count": 5,
   "metadata": {},
   "outputs": [
    {
     "name": "stdout",
     "output_type": "stream",
     "text": [
      "Taxa de Rotatividade: 19.11%\n"
     ]
    }
   ],
   "source": [
    "# Dados de contratação e Demissão (Taxa de Rotatividade)\n",
    "#df_employers.info()\n",
    "df_employers.data_de_demissao = pd.to_datetime(df_employers.data_de_demissao)\n",
    "num_funcionarios_que_deixaram = df_employers['data_de_demissao'].notnull().sum()\n",
    "\n",
    "\n",
    "\n",
    "num_funcionarios_medio = df_employers['id_rh'].nunique()  # Número médio de funcionários\n",
    "\n",
    "taxa_rotatividade = (num_funcionarios_que_deixaram / num_funcionarios_medio) * 100\n",
    "\n",
    "print(f'Taxa de Rotatividade: {taxa_rotatividade:.2f}%')"
   ]
  }
 ],
 "metadata": {
  "kernelspec": {
   "display_name": "desafionst",
   "language": "python",
   "name": "python3"
  },
  "language_info": {
   "codemirror_mode": {
    "name": "ipython",
    "version": 3
   },
   "file_extension": ".py",
   "mimetype": "text/x-python",
   "name": "python",
   "nbconvert_exporter": "python",
   "pygments_lexer": "ipython3",
   "version": "3.10.9"
  }
 },
 "nbformat": 4,
 "nbformat_minor": 2
}
